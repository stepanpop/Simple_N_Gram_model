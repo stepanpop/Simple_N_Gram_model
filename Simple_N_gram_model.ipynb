{
  "nbformat": 4,
  "nbformat_minor": 0,
  "metadata": {
    "colab": {
      "provenance": [],
      "authorship_tag": "ABX9TyO7l2sE7XZY2xGnT37LLHRh",
      "include_colab_link": true
    },
    "kernelspec": {
      "name": "python3",
      "display_name": "Python 3"
    },
    "language_info": {
      "name": "python"
    }
  },
  "cells": [
    {
      "cell_type": "markdown",
      "metadata": {
        "id": "view-in-github",
        "colab_type": "text"
      },
      "source": [
        "<a href=\"https://colab.research.google.com/github/stepanpop/Simple_N_Gram_model/blob/main/Simple_N_gram_model.ipynb\" target=\"_parent\"><img src=\"https://colab.research.google.com/assets/colab-badge.svg\" alt=\"Open In Colab\"/></a>"
      ]
    },
    {
      "cell_type": "code",
      "execution_count": 3,
      "metadata": {
        "colab": {
          "base_uri": "https://localhost:8080/"
        },
        "id": "vOGZQD1p4D35",
        "outputId": "c34021e2-3e3b-41c2-9181-a12b21c34f27"
      },
      "outputs": [
        {
          "output_type": "stream",
          "name": "stderr",
          "text": [
            "[nltk_data] Downloading package punkt to /root/nltk_data...\n",
            "[nltk_data]   Unzipping tokenizers/punkt.zip.\n"
          ]
        },
        {
          "output_type": "execute_result",
          "data": {
            "text/plain": [
              "True"
            ]
          },
          "metadata": {},
          "execution_count": 3
        }
      ],
      "source": [
        "import nltk\n",
        "from nltk import bigrams\n",
        "from collections import Counter, defaultdict\n",
        "\n",
        "nltk.download('punkt')\n"
      ]
    },
    {
      "cell_type": "code",
      "source": [
        "# Sample text (Text, kterej budeme používat)\n",
        "text = \" I like text analysis \"\n",
        "\n",
        "# Tokenization ( Budeme dělat tokenizaci)\n",
        "# Tokenizace je rosekání textu na jednotky ( Můžou to bejt slova, mezery, speciální znaky, věty...)\n",
        "# V našem případě to budou slova :)\n",
        "# text.lower() nám to mrskne na lowercase písmena\n",
        "tokens = nltk.word_tokenize(text.lower())\n",
        "\n",
        "# Create bigrams ( Přiřadíme tokeny do bigramu)\n",
        "# Co jsou to bigramy? Rozdělení do tuplů, po dvou tokenech (Tuple- je řazenej seznam víc na https://www.geeksforgeeks.org/tuples-in-python/ )\n",
        "bi_grams = list(bigrams(tokens))\n",
        "\n",
        "# Count frequencies ( Počítáme kol)\n",
        "bi_gram_counts = Counter(bi_grams)\n",
        "\n"
      ],
      "metadata": {
        "id": "3VMNorgU4GRh"
      },
      "execution_count": 4,
      "outputs": []
    },
    {
      "cell_type": "code",
      "source": [
        "print(bi_grams)"
      ],
      "metadata": {
        "colab": {
          "base_uri": "https://localhost:8080/"
        },
        "id": "JMp4syhJ_bPr",
        "outputId": "f8e30c1e-80cb-49fb-fba0-f94f2cc0bbc4"
      },
      "execution_count": 5,
      "outputs": [
        {
          "output_type": "stream",
          "name": "stdout",
          "text": [
            "[('i', 'like'), ('like', 'text'), ('text', 'analysis')]\n"
          ]
        }
      ]
    },
    {
      "cell_type": "code",
      "source": [
        "# Calculate probabilities\n",
        "bi_gram_probs = defaultdict(dict)\n",
        "for (w1, w2), freq in bi_gram_counts.items():\n",
        "    bi_gram_probs[w1][w2] = freq / sum(bi_gram_counts[(w1, _)] for _ in tokens)\n",
        "\n"
      ],
      "metadata": {
        "id": "QToqamEc4IES"
      },
      "execution_count": 6,
      "outputs": []
    },
    {
      "cell_type": "code",
      "source": [
        "# Example prediction\n",
        "current_word = 'text'\n",
        "predicted_word = max(bi_gram_probs[current_word], key=bi_gram_probs[current_word].get)\n",
        "print(predicted_word)"
      ],
      "metadata": {
        "colab": {
          "base_uri": "https://localhost:8080/"
        },
        "id": "RrpH1Q1j4KJA",
        "outputId": "61de5461-6306-4f9a-81ce-ab47fb22d2b0"
      },
      "execution_count": 7,
      "outputs": [
        {
          "output_type": "stream",
          "name": "stdout",
          "text": [
            "analysis\n"
          ]
        }
      ]
    }
  ]
}